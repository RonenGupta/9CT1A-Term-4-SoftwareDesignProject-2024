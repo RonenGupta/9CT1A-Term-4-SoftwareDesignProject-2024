{
 "cells": [
  {
   "cell_type": "markdown",
   "metadata": {},
   "source": [
    "## **Cyber Defense Simulator - Planning and Overview**"
   ]
  },
  {
   "cell_type": "markdown",
   "metadata": {},
   "source": [
    "### **Identifying and Defining**"
   ]
  },
  {
   "cell_type": "markdown",
   "metadata": {},
   "source": [
    "**Need:**\n",
    "\n",
    " With the increasing amounts of cyber threats occuring, there is a need for educational tools to inform and teach individuals about cyber security principles and safe online practices. Children in particular, lack this awareness of common threats and how to protect themselves.\n",
    "\n",
    "**Problem Statement:** \n",
    "\n",
    "As cyber attacks become more sophisticated, children alike remain unprepared and unprotected to these threats. By making a gamified version of a cyber defense simulator similar to tower defense games, this can create an interactive platform where they can battle against certain threats, and experiment with different protection systems to practice defensive strategies and be informed about how to counter these threats.\n",
    "\n",
    "**Skill Development:**\n",
    "\n",
    "- Unity Skills: To develop the skills needed to create the game, I would complete tutorials on Unity in tower defense game development and any other advanced features such as custom UI creation and possible 3D modelling.\n",
    "\n",
    "- Cyber security Knowledge: Develop any knowledge to represent real life cyber security threats and defensive systems.\n",
    "\n",
    "- Game Balancing: Ensuring progressive difficulty, so the user learns and adapts strategies to different types of threats.\n",
    "***"
   ]
  },
  {
   "cell_type": "markdown",
   "metadata": {},
   "source": [
    "### **Requirements Outline**"
   ]
  },
  {
   "cell_type": "markdown",
   "metadata": {},
   "source": [
    "**Inputs:**\n",
    "\n",
    "- Mouse clicking: (For selecting defensive strategies, placing them, upgrading them or skipping waves)\n",
    "\n",
    "- Dragging with mouse: (For moving towers to a certain area where you want.)\n",
    "\n",
    "- Keyboard shortcuts for quick actions: (Pausing or quick upgrading a tower with a key.)\n",
    "\n",
    "**Processing:**\n",
    "\n",
    "- Threat logic: Will spawn certain threats in waves each with different abilities such as speed, resilience, or splitting into multiple more threats at death. If a wave has passed fully, or skipped by the user's input, the system will carry out the threat logic listed.\n",
    "\n",
    "- Tower logic: Towers will each have different abilities corresponding to each threat, such as being more effective in slowing, damaging, or being faster in responding to such threats. Most towers will possess the ability to damage every threat, however some will be less effective, teaching children to use the correct strategies to combat the threat. The system detects if a threat is in the radius of the tower, and the tower reacts accordingly to the instructions listed above.\n",
    "\n",
    "- Score and Hearts: Score is deduced through how many threats are eliminated and how strong some were. Some threats give more score and some less as the system calcuates this. Hearts are a basic system in tower defense games, indicating after the threat passes what you have to defend which is the computer, you lose a heart. If the system detects all are depleted, the game would end.\n",
    "\n",
    "**Outputs:**\n",
    "\n",
    "- Visual feedback: Threats can be depicted as either 2D characters or 3D characters moving across a path from a birds eye view. Towers can also be depicted as the same 2D or 3D characters, and shoot projectiles to show they are functioning in containing the threats.\n",
    "\n",
    "- Sound Effects: Sound effects for placing towers and attacks, game over screens, game success screens, threats being eliminated.\n",
    "\n",
    "- Endgame Feedback: If all waves are passed or were failed to be passed, there will be a detailed report at the end of a stage to inform which threat breached the network (If it was breached), which units were effective, which units would be effective.\n",
    "\n",
    "**Transmission:**\n",
    "\n",
    "- Leaderboard for infinite waves: The game will send data to an online leaderboard if implemented for an infinite wave gamemode.\n",
    "\n",
    "**Storage**\n",
    "\n",
    "- Progression in levels and Scores: The game will store the player's progression in completed levels, and scores that were achieved. \n",
    "\n",
    "- Towers that are unlocked: As the user progresses through the game, they would've unlocked towers which are saved by the game.\n",
    "***"
   ]
  }
 ],
 "metadata": {
  "kernelspec": {
   "display_name": "Python 3",
   "language": "python",
   "name": "python3"
  },
  "language_info": {
   "codemirror_mode": {
    "name": "ipython",
    "version": 3
   },
   "file_extension": ".py",
   "mimetype": "text/x-python",
   "name": "python",
   "nbconvert_exporter": "python",
   "pygments_lexer": "ipython3",
   "version": "3.9.6"
  }
 },
 "nbformat": 4,
 "nbformat_minor": 2
}
